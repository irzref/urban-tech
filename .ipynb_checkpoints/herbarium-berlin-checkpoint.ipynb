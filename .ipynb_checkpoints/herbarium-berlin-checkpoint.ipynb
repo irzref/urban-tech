{
 "cells": [
  {
   "cell_type": "markdown",
   "metadata": {},
   "source": [
    "# Inspecting Dataset"
   ]
  },
  {
   "cell_type": "code",
   "execution_count": null,
   "metadata": {},
   "outputs": [],
   "source": [
    "import pandas as pd\n",
    "\n",
    "test_df = pd.read_csv(\"../herbarium-berlin.csv\", sep = '\\t')"
   ]
  },
  {
   "cell_type": "code",
   "execution_count": null,
   "metadata": {},
   "outputs": [],
   "source": [
    "test_df.shape"
   ]
  },
  {
   "cell_type": "code",
   "execution_count": null,
   "metadata": {},
   "outputs": [],
   "source": [
    "print(len(test_df.columns))\n",
    "list(test_df.columns)"
   ]
  },
  {
   "cell_type": "code",
   "execution_count": null,
   "metadata": {},
   "outputs": [],
   "source": [
    "test_df.iloc[:,0:3].head(10)"
   ]
  },
  {
   "cell_type": "code",
   "execution_count": null,
   "metadata": {},
   "outputs": [],
   "source": [
    "test_df.iloc[:,3:10].head(10)"
   ]
  },
  {
   "cell_type": "code",
   "execution_count": null,
   "metadata": {},
   "outputs": [],
   "source": [
    "test_df.iloc[:,10:16].head(10)"
   ]
  },
  {
   "cell_type": "code",
   "execution_count": null,
   "metadata": {},
   "outputs": [],
   "source": [
    "test_df.iloc[:,16:21].head(10)"
   ]
  },
  {
   "cell_type": "code",
   "execution_count": null,
   "metadata": {},
   "outputs": [],
   "source": [
    "test_df.iloc[:,21:31].head(10)"
   ]
  },
  {
   "cell_type": "code",
   "execution_count": null,
   "metadata": {},
   "outputs": [],
   "source": [
    "test_df.iloc[:,31:41].head(10)"
   ]
  },
  {
   "cell_type": "code",
   "execution_count": null,
   "metadata": {},
   "outputs": [],
   "source": [
    "test_df.iloc[:,41:46].head(10)"
   ]
  },
  {
   "cell_type": "markdown",
   "metadata": {},
   "source": [
    "# Select Features for Item Similarity"
   ]
  },
  {
   "cell_type": "code",
   "execution_count": null,
   "metadata": {},
   "outputs": [],
   "source": [
    "item_df = test_df[[\n",
    "    'catalogNumber',\n",
    "    'occurrenceID',\n",
    "    'scientificName',    \n",
    "    'kingdom',\n",
    "    'phylum',\n",
    "    'class',\n",
    "    'order',\n",
    "    'family',\n",
    "    'genus',\n",
    "    'species',\n",
    "    'countryCode',\n",
    "    'locality',\n",
    "    'decimalLatitude',\n",
    "    'decimalLongitude'\n",
    "]]"
   ]
  },
  {
   "cell_type": "code",
   "execution_count": null,
   "metadata": {},
   "outputs": [],
   "source": [
    "item_df.head(10)"
   ]
  },
  {
   "cell_type": "markdown",
   "metadata": {},
   "source": [
    "# Number of unique value"
   ]
  },
  {
   "cell_type": "code",
   "execution_count": null,
   "metadata": {},
   "outputs": [],
   "source": [
    "print(\"total rows \", test_df.shape)\n",
    "item_df.nunique()"
   ]
  },
  {
   "cell_type": "markdown",
   "metadata": {},
   "source": [
    "# Missing Values"
   ]
  },
  {
   "cell_type": "markdown",
   "metadata": {},
   "source": [
    "### Percentage of missing values"
   ]
  },
  {
   "cell_type": "code",
   "execution_count": null,
   "metadata": {},
   "outputs": [],
   "source": [
    "item_df.isna().sum() * 100 / len(item_df)"
   ]
  },
  {
   "cell_type": "code",
   "execution_count": null,
   "metadata": {
    "scrolled": true
   },
   "outputs": [],
   "source": [
    "item_df.isna().sum()"
   ]
  },
  {
   "cell_type": "markdown",
   "metadata": {},
   "source": [
    "### missing values in taxonomy kingdom"
   ]
  },
  {
   "cell_type": "code",
   "execution_count": null,
   "metadata": {},
   "outputs": [],
   "source": [
    "item_df[item_df['kingdom'].isna()]"
   ]
  },
  {
   "cell_type": "markdown",
   "metadata": {},
   "source": [
    "### inspecting missing values in dataset "
   ]
  },
  {
   "cell_type": "markdown",
   "metadata": {},
   "source": [
    "- when dropping missing value in all of the features\n",
    "  \n",
    "  this shows the number of data point to be dropped at all"
   ]
  },
  {
   "cell_type": "code",
   "execution_count": null,
   "metadata": {},
   "outputs": [],
   "source": [
    "item_df_dr_0 = item_df.dropna()\n",
    "remain_dt_0 = len(item_df_dr_0) * 100 / len(item_df)\n",
    "drp_dt_0 = 100 - remain_dt_0\n",
    "print(\"remaining data size \", len(item_df_dr_0))\n",
    "print(\"remaining data \", remain_dt_0)\n",
    "print(\"dropped data \", drp_dt_0)"
   ]
  },
  {
   "cell_type": "code",
   "execution_count": null,
   "metadata": {},
   "outputs": [],
   "source": [
    "type(item_df_dr_0)"
   ]
  },
  {
   "cell_type": "code",
   "execution_count": null,
   "metadata": {},
   "outputs": [],
   "source": [
    "item_df_dr_0.to_csv(\"../herbarium-berlin-clean.csv\", sep='\\t', encoding='utf-8')"
   ]
  },
  {
   "cell_type": "markdown",
   "metadata": {},
   "source": [
    "- when dropping missing value in all of the taxonomy features\n",
    "  \n",
    "  this shows the number of data point to be dropped at all"
   ]
  },
  {
   "cell_type": "code",
   "execution_count": null,
   "metadata": {},
   "outputs": [],
   "source": [
    "item_df_dr_1 = item_df.dropna(how='all', subset=['kingdom', 'phylum', 'class', 'order', 'family', 'genus', 'species'])\n",
    "remain_dt_1 = len(item_df_dr_1) * 100 / len(item_df)\n",
    "drp_dt_1 = 100 - remain_dt_1\n",
    "print(\"remaining data size \", len(item_df_dr_1))\n",
    "print(\"remaining data \", remain_dt_1)\n",
    "print(\"dropped data \", drp_dt_1)"
   ]
  },
  {
   "cell_type": "markdown",
   "metadata": {},
   "source": [
    "- when dropping missing value in either of taxonomy features\n",
    "\n",
    "  this shows the number of data point to be imputed / set to zero / dropped at all"
   ]
  },
  {
   "cell_type": "code",
   "execution_count": null,
   "metadata": {},
   "outputs": [],
   "source": [
    "item_df_dr_2 = item_df_dr_1.dropna(subset=['kingdom', 'phylum', 'class', 'order', 'family', 'genus', 'species'])\n",
    "remain_dt_2 = len(item_df_dr_2) * 100 / len(item_df_dr_1)\n",
    "drp_dt_2 = 100 - remain_dt_2\n",
    "print(\"remaining data \", remain_dt_2, len(item_df_dr_2))\n",
    "print(\"dropped data \", drp_dt_2, len(item_df_dr_1) - len(item_df_dr_2))"
   ]
  },
  {
   "cell_type": "markdown",
   "metadata": {},
   "source": [
    "- when dropping nan in location country and the missing values in long and lat\n",
    "\n",
    "  this shows the number of data point to be imputed / set to zero / dropped at all"
   ]
  },
  {
   "cell_type": "code",
   "execution_count": null,
   "metadata": {},
   "outputs": [],
   "source": [
    "item_df_dr_3 = item_df_dr_1.dropna(how='all', subset=['countryCode', 'decimalLatitude', 'decimalLongitude'])\n",
    "remain_dt_3 = len(item_df_dr_3) * 100 / len(item_df_dr_1)\n",
    "drp_dt_3 = 100 - remain_dt_3\n",
    "print(\"remaining data \", remain_dt_3, len(item_df_dr_3))\n",
    "print(\"dropped data \", drp_dt_3, len(item_df_dr_1) - len(item_df_dr_3))"
   ]
  },
  {
   "cell_type": "markdown",
   "metadata": {},
   "source": [
    "    - checking if the number is same as dropping nan in location country or the missing values in long and lat"
   ]
  },
  {
   "cell_type": "code",
   "execution_count": null,
   "metadata": {},
   "outputs": [],
   "source": [
    "item_df_dr_3_check = item_df_dr_1.dropna(how='all', subset=['countryCode'])\n",
    "len(item_df_dr_3_check)"
   ]
  },
  {
   "cell_type": "markdown",
   "metadata": {},
   "source": [
    "    - checking row without coutry code but have long and lat values"
   ]
  },
  {
   "cell_type": "code",
   "execution_count": null,
   "metadata": {},
   "outputs": [],
   "source": [
    "item_df_dr_3[item_df_dr_3['countryCode'].isna()]"
   ]
  },
  {
   "cell_type": "markdown",
   "metadata": {},
   "source": [
    "- when dropping the missing values in long and lat \n",
    "  \n",
    "  this shows the number of data point to be completed by geocoding after the last drop operation"
   ]
  },
  {
   "cell_type": "code",
   "execution_count": null,
   "metadata": {},
   "outputs": [],
   "source": [
    "len(item_df_dr_3[item_df_dr_3['decimalLatitude'].isna() & item_df_dr_3['decimalLongitude'].isna() & item_df_dr_3['countryCode'].notna()]) * 100 / len(item_df_dr_1)"
   ]
  },
  {
   "cell_type": "code",
   "execution_count": null,
   "metadata": {},
   "outputs": [],
   "source": [
    "len(item_df_dr_3[item_df_dr_3['decimalLatitude'].isna() & item_df_dr_3['decimalLongitude'].isna() & item_df_dr_3['countryCode'].notna()])"
   ]
  },
  {
   "cell_type": "code",
   "execution_count": null,
   "metadata": {},
   "outputs": [],
   "source": [
    "len(item_df_dr_3[item_df_dr_3['decimalLatitude'].isna()])"
   ]
  },
  {
   "cell_type": "markdown",
   "metadata": {},
   "source": [
    "# Imputing missing values"
   ]
  },
  {
   "cell_type": "markdown",
   "metadata": {},
   "source": [
    "### inspecting missing values in other column to find input column for imputation"
   ]
  },
  {
   "cell_type": "code",
   "execution_count": null,
   "metadata": {},
   "outputs": [],
   "source": [
    "item_df_dr_1[item_df_dr_1['phylum'].isna()].isna().sum() * 100 / len(item_df_dr_1[item_df_dr_1['phylum'].isna()])"
   ]
  },
  {
   "cell_type": "code",
   "execution_count": null,
   "metadata": {},
   "outputs": [],
   "source": [
    "item_df_dr_1[item_df_dr_1['class'].isna()].isna().sum() * 100 / len(item_df_dr_1[item_df_dr_1['class'].isna()])"
   ]
  },
  {
   "cell_type": "code",
   "execution_count": null,
   "metadata": {},
   "outputs": [],
   "source": [
    "item_df_dr_1[item_df_dr_1['order'].isna()].isna().sum() * 100 / len(item_df_dr_1[item_df_dr_1['order'].isna()])"
   ]
  },
  {
   "cell_type": "code",
   "execution_count": null,
   "metadata": {},
   "outputs": [],
   "source": [
    "item_df_dr_1[item_df_dr_1['family'].isna()].isna().sum() * 100 / len(item_df_dr_1[item_df_dr_1['family'].isna()])"
   ]
  },
  {
   "cell_type": "code",
   "execution_count": null,
   "metadata": {},
   "outputs": [],
   "source": [
    "print(len(item_df_dr_1[item_df_dr_1['genus'].isna()]))\n",
    "item_df_dr_1[item_df_dr_1['genus'].isna()].isna().sum() * 100 / len(item_df_dr_1[item_df_dr_1['genus'].isna()])"
   ]
  },
  {
   "cell_type": "code",
   "execution_count": null,
   "metadata": {},
   "outputs": [],
   "source": [
    "print(len(item_df_dr_1[item_df_dr_1['species'].isna()]))\n",
    "item_df_dr_1[item_df_dr_1['species'].isna()].isna().sum() * 100 / len(item_df_dr_1[item_df_dr_1['species'].isna()])"
   ]
  },
  {
   "cell_type": "code",
   "execution_count": null,
   "metadata": {},
   "outputs": [],
   "source": [
    "print(len(item_df_dr_1[~item_df_dr_1.isin(item_df_dr_3).catalogNumber]))\n",
    "item_df_dr_1[~item_df_dr_1.isin(item_df_dr_3).catalogNumber].isna().sum() * 100 / len(item_df_dr_1[~item_df_dr_1.isin(item_df_dr_3).catalogNumber])"
   ]
  },
  {
   "cell_type": "markdown",
   "metadata": {},
   "source": [
    "### genus and species seem to have enough input column to suport imputation\n",
    "\n",
    "here the number of data of each column that still can be imputed"
   ]
  },
  {
   "cell_type": "markdown",
   "metadata": {},
   "source": [
    "### Genus"
   ]
  },
  {
   "cell_type": "markdown",
   "metadata": {},
   "source": [
    "test set"
   ]
  },
  {
   "cell_type": "code",
   "execution_count": null,
   "metadata": {},
   "outputs": [],
   "source": [
    "g_test = item_df_dr_1[item_df_dr_1['genus'].isna()].dropna(subset=['kingdom', 'phylum', 'class', 'order', 'family', 'countryCode'])\n",
    "len(g_test)"
   ]
  },
  {
   "cell_type": "markdown",
   "metadata": {},
   "source": [
    "training set"
   ]
  },
  {
   "cell_type": "code",
   "execution_count": null,
   "metadata": {},
   "outputs": [],
   "source": [
    "print(len(item_df_dr_1[item_df_dr_1['genus'].notna()]))\n",
    "g_train = item_df_dr_1[item_df_dr_1['genus'].notna()].dropna(subset=['kingdom', 'phylum', 'class', 'order', 'family', 'countryCode'])\n",
    "len(g_train)"
   ]
  },
  {
   "cell_type": "markdown",
   "metadata": {},
   "source": [
    "### Species"
   ]
  },
  {
   "cell_type": "markdown",
   "metadata": {},
   "source": [
    "test set"
   ]
  },
  {
   "cell_type": "code",
   "execution_count": null,
   "metadata": {},
   "outputs": [],
   "source": [
    "s_test = item_df_dr_1[item_df_dr_1['species'].isna()].dropna(subset=['kingdom', 'phylum', 'class', 'order', 'family', 'genus', 'countryCode'])\n",
    "len(s_test)"
   ]
  },
  {
   "cell_type": "markdown",
   "metadata": {},
   "source": [
    "training set"
   ]
  },
  {
   "cell_type": "code",
   "execution_count": null,
   "metadata": {},
   "outputs": [],
   "source": [
    "print(len(item_df_dr_1[item_df_dr_1['species'].notna()]))\n",
    "s_train = item_df_dr_1[item_df_dr_1['species'].notna()].dropna(subset=['kingdom', 'phylum', 'class', 'order', 'family', 'genus', 'countryCode'])\n",
    "len(s_train)"
   ]
  },
  {
   "cell_type": "markdown",
   "metadata": {},
   "source": [
    "### Location"
   ]
  },
  {
   "cell_type": "markdown",
   "metadata": {},
   "source": [
    "test set"
   ]
  },
  {
   "cell_type": "code",
   "execution_count": null,
   "metadata": {},
   "outputs": [],
   "source": [
    "l_test = item_df_dr_1[~item_df_dr_1.isin(item_df_dr_3).catalogNumber].dropna(subset=['kingdom', 'phylum', 'class', 'order', 'family', 'genus', 'species'])\n",
    "len(l_test)"
   ]
  },
  {
   "cell_type": "markdown",
   "metadata": {},
   "source": [
    "training set"
   ]
  },
  {
   "cell_type": "code",
   "execution_count": null,
   "metadata": {},
   "outputs": [],
   "source": [
    "print(len(item_df_dr_3))\n",
    "l_train = item_df_dr_3.dropna(subset=['kingdom', 'phylum', 'class', 'order', 'family', 'genus', 'species'])\n",
    "len(l_train)"
   ]
  },
  {
   "cell_type": "code",
   "execution_count": null,
   "metadata": {},
   "outputs": [],
   "source": [
    "import datawig"
   ]
  },
  {
   "cell_type": "markdown",
   "metadata": {},
   "source": [
    "# Crawling for Images Url"
   ]
  },
  {
   "cell_type": "code",
   "execution_count": null,
   "metadata": {},
   "outputs": [],
   "source": [
    "import requests\n",
    "from bs4 import BeautifulSoup\n",
    "from urllib import parse\n",
    "from urllib.parse import urlencode\n",
    "\n",
    "def image_crawler(url):\n",
    "    page = requests.get(url)\n",
    "    soup = BeautifulSoup(page.content, 'html.parser')\n",
    "    ret = \"\"\n",
    "    \n",
    "    if len(soup.find_all('img')) > 0 :\n",
    "        imgurl = soup.find_all('img')[4]['src']\n",
    "        if \"mediastorage\" in imgurl:\n",
    "            urlcmp = parse.urlsplit(imgurl)\n",
    "            qs = parse.parse_qs(urlcmp.query)\n",
    "            qs['width'] = ['1000']\n",
    "            qsret = urlencode(qs, doseq=True)\n",
    "            ret = urlcmp.scheme + \"://\" + urlcmp.netloc + urlcmp.path + \"?\" + qsret \n",
    "            \n",
    "        \n",
    "    return ret"
   ]
  },
  {
   "cell_type": "code",
   "execution_count": null,
   "metadata": {},
   "outputs": [],
   "source": [
    "image_crawler(\"http://herbarium.bgbm.org/object/BW19937010\")"
   ]
  },
  {
   "cell_type": "code",
   "execution_count": null,
   "metadata": {},
   "outputs": [],
   "source": [
    "test_df.iloc[0]"
   ]
  },
  {
   "cell_type": "code",
   "execution_count": null,
   "metadata": {},
   "outputs": [],
   "source": [
    "item_df = test_df[[\n",
    "    'gbifID',\n",
    "    'catalogNumber',\n",
    "    'occurrenceID',\n",
    "    'scientificName',    \n",
    "    'kingdom',\n",
    "    'phylum',\n",
    "    'class',\n",
    "    'order',\n",
    "    'family',\n",
    "    'genus',\n",
    "    'species',\n",
    "    'countryCode',\n",
    "    'locality',\n",
    "    'decimalLatitude',\n",
    "    'decimalLongitude'\n",
    "]]\n",
    "item_df = item_df.dropna()\n",
    "item_df = item_df[[\n",
    "    'gbifID',\n",
    "    'catalogNumber',\n",
    "    'occurrenceID',\n",
    "    'scientificName'\n",
    "]]\n",
    "item_df.shape"
   ]
  },
  {
   "cell_type": "code",
   "execution_count": null,
   "metadata": {},
   "outputs": [],
   "source": [
    "item_df.iloc[0][\"gbifID\"]"
   ]
  },
  {
   "cell_type": "code",
   "execution_count": null,
   "metadata": {},
   "outputs": [],
   "source": [
    "url = 'https://www.gbif.org/occurrence/' + str(item_df.iloc[0][\"gbifID\"])\n",
    "page = requests.get(url)\n",
    "soup = BeautifulSoup(page.content, 'html.parser')\n",
    "print(url)"
   ]
  },
  {
   "cell_type": "code",
   "execution_count": null,
   "metadata": {},
   "outputs": [],
   "source": [
    "soup"
   ]
  },
  {
   "cell_type": "code",
   "execution_count": null,
   "metadata": {},
   "outputs": [],
   "source": [
    "import re\n",
    "soup.find_all('a')"
   ]
  },
  {
   "cell_type": "code",
   "execution_count": null,
   "metadata": {
    "scrolled": true
   },
   "outputs": [],
   "source": [
    "start = timer()\n",
    "\n",
    "image_links = []\n",
    "\n",
    "for i in range(test_df.shape[0]):\n",
    "    seed_link = test_df.iloc[i][\"occurrenceID\"]\n",
    "    res = image_crawler(seed_link)\n",
    "    image_links.append(res)\n",
    "\n",
    "end = timer()\n",
    "\n",
    "print(\"time :\", end - start)\n",
    "\n",
    "image_links"
   ]
  },
  {
   "cell_type": "markdown",
   "metadata": {},
   "source": [
    "# Similarity Modelling"
   ]
  },
  {
   "cell_type": "code",
   "execution_count": null,
   "metadata": {},
   "outputs": [],
   "source": [
    "btc_df = item_df_dr_0.copy()"
   ]
  },
  {
   "cell_type": "code",
   "execution_count": null,
   "metadata": {},
   "outputs": [],
   "source": [
    "btc_df.shape[0]"
   ]
  },
  {
   "cell_type": "code",
   "execution_count": null,
   "metadata": {
    "scrolled": true
   },
   "outputs": [],
   "source": [
    "import numpy as np\n",
    "\n",
    "btc_df['index_col'] = np.arange(btc_df.shape[0])\n",
    "btc_df"
   ]
  },
  {
   "cell_type": "code",
   "execution_count": null,
   "metadata": {
    "scrolled": true
   },
   "outputs": [],
   "source": [
    "cal_btc_df = btc_df[[\"kingdom\",\"phylum\",\"class\",\"order\",\"family\",\"genus\",\"species\",\"decimalLatitude\",\"decimalLongitude\"]]\n",
    "cal_btc_df"
   ]
  },
  {
   "cell_type": "code",
   "execution_count": null,
   "metadata": {
    "scrolled": true
   },
   "outputs": [],
   "source": [
    "oneh_cal_btc_df = pd.get_dummies(cal_btc_df,prefix=['kingdom','phylum','class','order','family','genus','species'])"
   ]
  },
  {
   "cell_type": "code",
   "execution_count": null,
   "metadata": {
    "scrolled": true
   },
   "outputs": [],
   "source": [
    "oneh_cal_btc_df"
   ]
  },
  {
   "cell_type": "code",
   "execution_count": null,
   "metadata": {},
   "outputs": [],
   "source": [
    "# oneh_cal_btc_df.to_csv(\"../herbarium-berlin-oneh.csv\", encoding='utf-8')\n",
    "oneh_cal_btc_df.to_csv('../herbarium-berlin-oneh.csv.gz'\n",
    "         , sep='|'\n",
    "         , header=True\n",
    "         , index=False\n",
    "         , chunksize=100000\n",
    "         , compression='gzip'\n",
    "         , encoding='utf-8')"
   ]
  },
  {
   "cell_type": "code",
   "execution_count": null,
   "metadata": {},
   "outputs": [],
   "source": [
    "from sklearn.metrics.pairwise import euclidean_distances"
   ]
  },
  {
   "cell_type": "code",
   "execution_count": null,
   "metadata": {},
   "outputs": [],
   "source": [
    "euclidean_distances(oneh_cal_btc_df, oneh_cal_btc_df)"
   ]
  },
  {
   "cell_type": "code",
   "execution_count": null,
   "metadata": {},
   "outputs": [],
   "source": [
    "from scipy.spatial.distance import pdist, squareform\n",
    "\n",
    "dist = pdist(oneh_cal_btc_df, 'euclidean')\n",
    "dist_df = pd.DataFrame(squareform(dist))"
   ]
  },
  {
   "cell_type": "code",
   "execution_count": null,
   "metadata": {},
   "outputs": [],
   "source": [
    "from sklearn.neighbors import DistanceMetric\n"
   ]
  },
  {
   "cell_type": "code",
   "execution_count": null,
   "metadata": {},
   "outputs": [],
   "source": [
    "DistanceMetric.get_metric"
   ]
  },
  {
   "cell_type": "code",
   "execution_count": null,
   "metadata": {},
   "outputs": [],
   "source": [
    "import numpy as np\n",
    "a = np.random.rand(800,2048).astype(np.float32)\n",
    "a.shape"
   ]
  },
  {
   "cell_type": "code",
   "execution_count": null,
   "metadata": {},
   "outputs": [],
   "source": [
    "from sklearn.preprocessing import StandardScaler\n",
    "import numpy as np\n",
    "\n",
    "X = np.array([2,3,0,1,0])\n",
    "\n",
    "scaler = StandardScaler()\n",
    "X_norm = scaler.fit_transform(X.T)\n",
    "X_norm"
   ]
  },
  {
   "cell_type": "markdown",
   "metadata": {},
   "source": [
    "# Inserting to mongoDB"
   ]
  },
  {
   "cell_type": "code",
   "execution_count": null,
   "metadata": {},
   "outputs": [],
   "source": [
    "item_df = test_df[[\n",
    "    'gbifID',\n",
    "    'catalogNumber',\n",
    "    'occurrenceID',\n",
    "    'scientificName',    \n",
    "    'kingdom',\n",
    "    'phylum',\n",
    "    'class',\n",
    "    'order',\n",
    "    'family',\n",
    "    'genus',\n",
    "    'species',\n",
    "    'countryCode',\n",
    "    'locality',\n",
    "    'decimalLatitude',\n",
    "    'decimalLongitude'\n",
    "]]\n",
    "item_df = item_df.dropna()\n",
    "item_df.shape"
   ]
  },
  {
   "cell_type": "code",
   "execution_count": null,
   "metadata": {},
   "outputs": [],
   "source": [
    "import numpy as np\n",
    "\n",
    "item_df['index_col'] = np.arange(item_df.shape[0])\n",
    "item_df"
   ]
  },
  {
   "cell_type": "code",
   "execution_count": null,
   "metadata": {
    "scrolled": true
   },
   "outputs": [],
   "source": [
    "similar_item_df = pd.read_csv(\"../norm-simdotp-similar-result.csv\", header=None, index_col=False)\n",
    "similar_item_df"
   ]
  },
  {
   "cell_type": "code",
   "execution_count": null,
   "metadata": {},
   "outputs": [],
   "source": [
    "#df['period'] = df[['Year', 'quarter']].apply(lambda x: ''.join(x), axis=1)\n",
    "\n",
    "col = np.arange(1,20)\n",
    "similar_item_df[to_str(col)].apply(lambda x: ''.join(x), axis=1)"
   ]
  },
  {
   "cell_type": "code",
   "execution_count": null,
   "metadata": {},
   "outputs": [],
   "source": [
    "similar_item_df['sim_item'] = similar_item_df[np.arange(1,20)].apply(lambda x: np.array(x), axis=1)"
   ]
  },
  {
   "cell_type": "code",
   "execution_count": null,
   "metadata": {
    "scrolled": true
   },
   "outputs": [],
   "source": [
    "similar_item_df['sim_item']"
   ]
  },
  {
   "cell_type": "code",
   "execution_count": null,
   "metadata": {},
   "outputs": [],
   "source": [
    "similar_item_df['index_col'] = np.arange(item_df.shape[0])"
   ]
  },
  {
   "cell_type": "code",
   "execution_count": null,
   "metadata": {},
   "outputs": [],
   "source": [
    "similar_item_df.shape"
   ]
  },
  {
   "cell_type": "code",
   "execution_count": null,
   "metadata": {},
   "outputs": [],
   "source": [
    "item_df.shape"
   ]
  },
  {
   "cell_type": "code",
   "execution_count": null,
   "metadata": {},
   "outputs": [],
   "source": [
    "len(similar_item_df.iloc[0]['sim_item'])"
   ]
  },
  {
   "cell_type": "code",
   "execution_count": null,
   "metadata": {
    "scrolled": true
   },
   "outputs": [],
   "source": [
    "sim_item = similar_item_df[['index_col','sim_item']]\n",
    "sim_item"
   ]
  },
  {
   "cell_type": "code",
   "execution_count": null,
   "metadata": {},
   "outputs": [],
   "source": [
    "result_df = pd.merge(item_df, sim_item, on='index_col')\n",
    "result_df"
   ]
  },
  {
   "cell_type": "code",
   "execution_count": null,
   "metadata": {},
   "outputs": [],
   "source": [
    "result_df.iloc[0].values"
   ]
  },
  {
   "cell_type": "code",
   "execution_count": null,
   "metadata": {},
   "outputs": [],
   "source": [
    "from pymongo import MongoClient\n",
    "import json\n",
    "\n",
    "client = MongoClient('localhost', 27017)\n",
    "db = client.botanic_dataset"
   ]
  },
  {
   "cell_type": "code",
   "execution_count": null,
   "metadata": {},
   "outputs": [],
   "source": [
    "records = json.loads(result_df.T.to_json()).values()"
   ]
  },
  {
   "cell_type": "code",
   "execution_count": null,
   "metadata": {},
   "outputs": [],
   "source": [
    "db.item.insert(records)"
   ]
  }
 ],
 "metadata": {
  "kernelspec": {
   "display_name": "Python 3",
   "language": "python",
   "name": "python3"
  },
  "language_info": {
   "codemirror_mode": {
    "name": "ipython",
    "version": 3
   },
   "file_extension": ".py",
   "mimetype": "text/x-python",
   "name": "python",
   "nbconvert_exporter": "python",
   "pygments_lexer": "ipython3",
   "version": "3.6.6"
  }
 },
 "nbformat": 4,
 "nbformat_minor": 2
}
