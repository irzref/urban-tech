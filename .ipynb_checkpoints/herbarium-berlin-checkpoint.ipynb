{
 "cells": [
  {
   "cell_type": "markdown",
   "metadata": {},
   "source": [
    "# Inspecting Dataset"
   ]
  },
  {
   "cell_type": "code",
   "execution_count": 1,
   "metadata": {},
   "outputs": [
    {
     "name": "stderr",
     "output_type": "stream",
     "text": [
      "/root/anaconda3/lib/python3.6/importlib/_bootstrap.py:219: RuntimeWarning: numpy.dtype size changed, may indicate binary incompatibility. Expected 96, got 88\n",
      "  return f(*args, **kwds)\n",
      "/root/anaconda3/lib/python3.6/importlib/_bootstrap.py:219: RuntimeWarning: numpy.dtype size changed, may indicate binary incompatibility. Expected 96, got 88\n",
      "  return f(*args, **kwds)\n",
      "/root/anaconda3/lib/python3.6/site-packages/IPython/core/interactiveshell.py:3018: DtypeWarning: Columns (34,40) have mixed types. Specify dtype option on import or set low_memory=False.\n",
      "  interactivity=interactivity, compiler=compiler, result=result)\n"
     ]
    }
   ],
   "source": [
    "import pandas as pd\n",
    "\n",
    "test_df = pd.read_csv(\"../herbarium-berlin.csv\", sep = '\\t')"
   ]
  },
  {
   "cell_type": "code",
   "execution_count": 2,
   "metadata": {},
   "outputs": [
    {
     "data": {
      "text/plain": [
       "(380276, 45)"
      ]
     },
     "execution_count": 2,
     "metadata": {},
     "output_type": "execute_result"
    }
   ],
   "source": [
    "test_df.shape"
   ]
  },
  {
   "cell_type": "code",
   "execution_count": null,
   "metadata": {},
   "outputs": [],
   "source": [
    "print(len(test_df.columns))\n",
    "list(test_df.columns)"
   ]
  },
  {
   "cell_type": "code",
   "execution_count": null,
   "metadata": {},
   "outputs": [],
   "source": [
    "test_df.iloc[:,0:3].head(10)"
   ]
  },
  {
   "cell_type": "code",
   "execution_count": null,
   "metadata": {},
   "outputs": [],
   "source": [
    "test_df.iloc[:,3:10].head(10)"
   ]
  },
  {
   "cell_type": "code",
   "execution_count": null,
   "metadata": {},
   "outputs": [],
   "source": [
    "test_df.iloc[:,10:16].head(10)"
   ]
  },
  {
   "cell_type": "code",
   "execution_count": null,
   "metadata": {},
   "outputs": [],
   "source": [
    "test_df.iloc[:,16:21].head(10)"
   ]
  },
  {
   "cell_type": "code",
   "execution_count": null,
   "metadata": {},
   "outputs": [],
   "source": [
    "test_df.iloc[:,21:31].head(10)"
   ]
  },
  {
   "cell_type": "code",
   "execution_count": null,
   "metadata": {},
   "outputs": [],
   "source": [
    "test_df.iloc[:,31:41].head(10)"
   ]
  },
  {
   "cell_type": "code",
   "execution_count": null,
   "metadata": {},
   "outputs": [],
   "source": [
    "test_df.iloc[:,41:46].head(10)"
   ]
  },
  {
   "cell_type": "markdown",
   "metadata": {},
   "source": [
    "# Select Features for Item Similarity"
   ]
  },
  {
   "cell_type": "code",
   "execution_count": 3,
   "metadata": {},
   "outputs": [],
   "source": [
    "item_df = test_df[[\n",
    "    'catalogNumber',\n",
    "    'occurrenceID',\n",
    "    'scientificName',    \n",
    "    'kingdom',\n",
    "    'phylum',\n",
    "    'class',\n",
    "    'order',\n",
    "    'family',\n",
    "    'genus',\n",
    "    'species',\n",
    "    'countryCode',\n",
    "    'locality',\n",
    "    'decimalLatitude',\n",
    "    'decimalLongitude'\n",
    "]]"
   ]
  },
  {
   "cell_type": "code",
   "execution_count": 4,
   "metadata": {},
   "outputs": [
    {
     "data": {
      "text/html": [
       "<div>\n",
       "<style scoped>\n",
       "    .dataframe tbody tr th:only-of-type {\n",
       "        vertical-align: middle;\n",
       "    }\n",
       "\n",
       "    .dataframe tbody tr th {\n",
       "        vertical-align: top;\n",
       "    }\n",
       "\n",
       "    .dataframe thead th {\n",
       "        text-align: right;\n",
       "    }\n",
       "</style>\n",
       "<table border=\"1\" class=\"dataframe\">\n",
       "  <thead>\n",
       "    <tr style=\"text-align: right;\">\n",
       "      <th></th>\n",
       "      <th>catalogNumber</th>\n",
       "      <th>occurrenceID</th>\n",
       "      <th>scientificName</th>\n",
       "      <th>kingdom</th>\n",
       "      <th>phylum</th>\n",
       "      <th>class</th>\n",
       "      <th>order</th>\n",
       "      <th>family</th>\n",
       "      <th>genus</th>\n",
       "      <th>species</th>\n",
       "      <th>countryCode</th>\n",
       "      <th>locality</th>\n",
       "      <th>decimalLatitude</th>\n",
       "      <th>decimalLongitude</th>\n",
       "    </tr>\n",
       "  </thead>\n",
       "  <tbody>\n",
       "    <tr>\n",
       "      <th>0</th>\n",
       "      <td>B -W 19937 -02 0</td>\n",
       "      <td>http://herbarium.bgbm.org/object/BW19937020</td>\n",
       "      <td>Asplenium acutum Bory ex Willd.</td>\n",
       "      <td>Plantae</td>\n",
       "      <td>Tracheophyta</td>\n",
       "      <td>Polypodiopsida</td>\n",
       "      <td>Polypodiales</td>\n",
       "      <td>Aspleniaceae</td>\n",
       "      <td>Asplenium</td>\n",
       "      <td>Asplenium onopteris</td>\n",
       "      <td>ES</td>\n",
       "      <td>Teneriffe.</td>\n",
       "      <td>NaN</td>\n",
       "      <td>NaN</td>\n",
       "    </tr>\n",
       "    <tr>\n",
       "      <th>1</th>\n",
       "      <td>B -W 19937 -01 0</td>\n",
       "      <td>http://herbarium.bgbm.org/object/BW19937010</td>\n",
       "      <td>Asplenium acutum Bory ex Willd.</td>\n",
       "      <td>Plantae</td>\n",
       "      <td>Tracheophyta</td>\n",
       "      <td>Polypodiopsida</td>\n",
       "      <td>Polypodiales</td>\n",
       "      <td>Aspleniaceae</td>\n",
       "      <td>Asplenium</td>\n",
       "      <td>Asplenium onopteris</td>\n",
       "      <td>ES</td>\n",
       "      <td>Teneriffe a la forêt de Laguna.</td>\n",
       "      <td>NaN</td>\n",
       "      <td>NaN</td>\n",
       "    </tr>\n",
       "    <tr>\n",
       "      <th>2</th>\n",
       "      <td>B 20 0049406</td>\n",
       "      <td>http://herbarium.bgbm.org/object/B200049406</td>\n",
       "      <td>Diplazium rhoifolium Mett.</td>\n",
       "      <td>Plantae</td>\n",
       "      <td>Tracheophyta</td>\n",
       "      <td>Polypodiopsida</td>\n",
       "      <td>Polypodiales</td>\n",
       "      <td>Athyriaceae</td>\n",
       "      <td>Diplazium</td>\n",
       "      <td>Diplazium rhoifolium</td>\n",
       "      <td>GY</td>\n",
       "      <td>New Granada.</td>\n",
       "      <td>NaN</td>\n",
       "      <td>NaN</td>\n",
       "    </tr>\n",
       "    <tr>\n",
       "      <th>3</th>\n",
       "      <td>B 20 0011251</td>\n",
       "      <td>http://herbarium.bgbm.org/object/B200011251</td>\n",
       "      <td>Asplenium virillae Christ</td>\n",
       "      <td>Plantae</td>\n",
       "      <td>Tracheophyta</td>\n",
       "      <td>Polypodiopsida</td>\n",
       "      <td>Polypodiales</td>\n",
       "      <td>Aspleniaceae</td>\n",
       "      <td>Asplenium</td>\n",
       "      <td>Asplenium virillae</td>\n",
       "      <td>CR</td>\n",
       "      <td>Candelaria, Alt.: 1600 m.</td>\n",
       "      <td>NaN</td>\n",
       "      <td>NaN</td>\n",
       "    </tr>\n",
       "    <tr>\n",
       "      <th>4</th>\n",
       "      <td>B 10 0461080</td>\n",
       "      <td>http://herbarium.bgbm.org/object/B100461080</td>\n",
       "      <td>Arctanthemum arcticum (L.) Tzvelev</td>\n",
       "      <td>Plantae</td>\n",
       "      <td>Tracheophyta</td>\n",
       "      <td>Magnoliopsida</td>\n",
       "      <td>Asterales</td>\n",
       "      <td>Asteraceae</td>\n",
       "      <td>Arctanthemum</td>\n",
       "      <td>Arctanthemum arcticum</td>\n",
       "      <td>NaN</td>\n",
       "      <td>Triostroff in Lapponia maxime or.</td>\n",
       "      <td>NaN</td>\n",
       "      <td>NaN</td>\n",
       "    </tr>\n",
       "    <tr>\n",
       "      <th>5</th>\n",
       "      <td>B 10 0630589</td>\n",
       "      <td>http://herbarium.bgbm.org/object/B100630589</td>\n",
       "      <td>Guatteria schomburgkiana Mart.</td>\n",
       "      <td>Plantae</td>\n",
       "      <td>Tracheophyta</td>\n",
       "      <td>Magnoliopsida</td>\n",
       "      <td>Magnoliales</td>\n",
       "      <td>Annonaceae</td>\n",
       "      <td>Guatteria</td>\n",
       "      <td>Guatteria schomburgkiana</td>\n",
       "      <td>SR</td>\n",
       "      <td>NaN</td>\n",
       "      <td>NaN</td>\n",
       "      <td>NaN</td>\n",
       "    </tr>\n",
       "    <tr>\n",
       "      <th>6</th>\n",
       "      <td>B 20 0015631_b</td>\n",
       "      <td>http://herbarium.bgbm.org/object/B200015631_b</td>\n",
       "      <td>Asplenium heufleri Reichardt</td>\n",
       "      <td>Plantae</td>\n",
       "      <td>Tracheophyta</td>\n",
       "      <td>Polypodiopsida</td>\n",
       "      <td>Polypodiales</td>\n",
       "      <td>Aspleniaceae</td>\n",
       "      <td>Asplenium</td>\n",
       "      <td>Asplenium alternifolium</td>\n",
       "      <td>IT</td>\n",
       "      <td>Rheinpreußen auf Devon Schiefer des Ahrthales....</td>\n",
       "      <td>NaN</td>\n",
       "      <td>NaN</td>\n",
       "    </tr>\n",
       "    <tr>\n",
       "      <th>7</th>\n",
       "      <td>B 10 0630588</td>\n",
       "      <td>http://herbarium.bgbm.org/object/B100630588</td>\n",
       "      <td>Guatteria schomburgkiana Mart.</td>\n",
       "      <td>Plantae</td>\n",
       "      <td>Tracheophyta</td>\n",
       "      <td>Magnoliopsida</td>\n",
       "      <td>Magnoliales</td>\n",
       "      <td>Annonaceae</td>\n",
       "      <td>Guatteria</td>\n",
       "      <td>Guatteria schomburgkiana</td>\n",
       "      <td>SR</td>\n",
       "      <td>Para.</td>\n",
       "      <td>NaN</td>\n",
       "      <td>NaN</td>\n",
       "    </tr>\n",
       "    <tr>\n",
       "      <th>8</th>\n",
       "      <td>B 10 0461077</td>\n",
       "      <td>http://herbarium.bgbm.org/object/B100461077</td>\n",
       "      <td>Leucanthemopsis alpina (L.) V.H.Heywood</td>\n",
       "      <td>Plantae</td>\n",
       "      <td>Tracheophyta</td>\n",
       "      <td>Magnoliopsida</td>\n",
       "      <td>Asterales</td>\n",
       "      <td>Asteraceae</td>\n",
       "      <td>Leucanthemopsis</td>\n",
       "      <td>Leucanthemopsis alpina</td>\n",
       "      <td>SK</td>\n",
       "      <td>Tatra.</td>\n",
       "      <td>NaN</td>\n",
       "      <td>NaN</td>\n",
       "    </tr>\n",
       "    <tr>\n",
       "      <th>9</th>\n",
       "      <td>B 10 0461067</td>\n",
       "      <td>http://herbarium.bgbm.org/object/B100461067</td>\n",
       "      <td>Leucanthemopsis alpina (L.) V.H.Heywood</td>\n",
       "      <td>Plantae</td>\n",
       "      <td>Tracheophyta</td>\n",
       "      <td>Magnoliopsida</td>\n",
       "      <td>Asterales</td>\n",
       "      <td>Asteraceae</td>\n",
       "      <td>Leucanthemopsis</td>\n",
       "      <td>Leucanthemopsis alpina</td>\n",
       "      <td>IT</td>\n",
       "      <td>Lombardei. [?] in Monte Venerocolo.</td>\n",
       "      <td>NaN</td>\n",
       "      <td>NaN</td>\n",
       "    </tr>\n",
       "  </tbody>\n",
       "</table>\n",
       "</div>"
      ],
      "text/plain": [
       "      catalogNumber                                   occurrenceID  \\\n",
       "0  B -W 19937 -02 0    http://herbarium.bgbm.org/object/BW19937020   \n",
       "1  B -W 19937 -01 0    http://herbarium.bgbm.org/object/BW19937010   \n",
       "2      B 20 0049406    http://herbarium.bgbm.org/object/B200049406   \n",
       "3      B 20 0011251    http://herbarium.bgbm.org/object/B200011251   \n",
       "4      B 10 0461080    http://herbarium.bgbm.org/object/B100461080   \n",
       "5      B 10 0630589    http://herbarium.bgbm.org/object/B100630589   \n",
       "6    B 20 0015631_b  http://herbarium.bgbm.org/object/B200015631_b   \n",
       "7      B 10 0630588    http://herbarium.bgbm.org/object/B100630588   \n",
       "8      B 10 0461077    http://herbarium.bgbm.org/object/B100461077   \n",
       "9      B 10 0461067    http://herbarium.bgbm.org/object/B100461067   \n",
       "\n",
       "                            scientificName  kingdom        phylum  \\\n",
       "0          Asplenium acutum Bory ex Willd.  Plantae  Tracheophyta   \n",
       "1          Asplenium acutum Bory ex Willd.  Plantae  Tracheophyta   \n",
       "2               Diplazium rhoifolium Mett.  Plantae  Tracheophyta   \n",
       "3                Asplenium virillae Christ  Plantae  Tracheophyta   \n",
       "4       Arctanthemum arcticum (L.) Tzvelev  Plantae  Tracheophyta   \n",
       "5           Guatteria schomburgkiana Mart.  Plantae  Tracheophyta   \n",
       "6             Asplenium heufleri Reichardt  Plantae  Tracheophyta   \n",
       "7           Guatteria schomburgkiana Mart.  Plantae  Tracheophyta   \n",
       "8  Leucanthemopsis alpina (L.) V.H.Heywood  Plantae  Tracheophyta   \n",
       "9  Leucanthemopsis alpina (L.) V.H.Heywood  Plantae  Tracheophyta   \n",
       "\n",
       "            class         order        family            genus  \\\n",
       "0  Polypodiopsida  Polypodiales  Aspleniaceae        Asplenium   \n",
       "1  Polypodiopsida  Polypodiales  Aspleniaceae        Asplenium   \n",
       "2  Polypodiopsida  Polypodiales   Athyriaceae        Diplazium   \n",
       "3  Polypodiopsida  Polypodiales  Aspleniaceae        Asplenium   \n",
       "4   Magnoliopsida     Asterales    Asteraceae     Arctanthemum   \n",
       "5   Magnoliopsida   Magnoliales    Annonaceae        Guatteria   \n",
       "6  Polypodiopsida  Polypodiales  Aspleniaceae        Asplenium   \n",
       "7   Magnoliopsida   Magnoliales    Annonaceae        Guatteria   \n",
       "8   Magnoliopsida     Asterales    Asteraceae  Leucanthemopsis   \n",
       "9   Magnoliopsida     Asterales    Asteraceae  Leucanthemopsis   \n",
       "\n",
       "                    species countryCode  \\\n",
       "0       Asplenium onopteris          ES   \n",
       "1       Asplenium onopteris          ES   \n",
       "2      Diplazium rhoifolium          GY   \n",
       "3        Asplenium virillae          CR   \n",
       "4     Arctanthemum arcticum         NaN   \n",
       "5  Guatteria schomburgkiana          SR   \n",
       "6   Asplenium alternifolium          IT   \n",
       "7  Guatteria schomburgkiana          SR   \n",
       "8    Leucanthemopsis alpina          SK   \n",
       "9    Leucanthemopsis alpina          IT   \n",
       "\n",
       "                                            locality  decimalLatitude  \\\n",
       "0                                         Teneriffe.              NaN   \n",
       "1                    Teneriffe a la forêt de Laguna.              NaN   \n",
       "2                                       New Granada.              NaN   \n",
       "3                          Candelaria, Alt.: 1600 m.              NaN   \n",
       "4                  Triostroff in Lapponia maxime or.              NaN   \n",
       "5                                                NaN              NaN   \n",
       "6  Rheinpreußen auf Devon Schiefer des Ahrthales....              NaN   \n",
       "7                                              Para.              NaN   \n",
       "8                                             Tatra.              NaN   \n",
       "9                Lombardei. [?] in Monte Venerocolo.              NaN   \n",
       "\n",
       "   decimalLongitude  \n",
       "0               NaN  \n",
       "1               NaN  \n",
       "2               NaN  \n",
       "3               NaN  \n",
       "4               NaN  \n",
       "5               NaN  \n",
       "6               NaN  \n",
       "7               NaN  \n",
       "8               NaN  \n",
       "9               NaN  "
      ]
     },
     "execution_count": 4,
     "metadata": {},
     "output_type": "execute_result"
    }
   ],
   "source": [
    "item_df.head(10)"
   ]
  },
  {
   "cell_type": "markdown",
   "metadata": {},
   "source": [
    "# Number of unique value"
   ]
  },
  {
   "cell_type": "code",
   "execution_count": null,
   "metadata": {},
   "outputs": [],
   "source": [
    "print(\"total rows \", test_df.shape)\n",
    "item_df.nunique()"
   ]
  },
  {
   "cell_type": "markdown",
   "metadata": {},
   "source": [
    "# Missing Values"
   ]
  },
  {
   "cell_type": "markdown",
   "metadata": {},
   "source": [
    "### Percentage of missing values"
   ]
  },
  {
   "cell_type": "code",
   "execution_count": null,
   "metadata": {},
   "outputs": [],
   "source": [
    "item_df.isna().sum() * 100 / len(item_df)"
   ]
  },
  {
   "cell_type": "code",
   "execution_count": null,
   "metadata": {
    "scrolled": true
   },
   "outputs": [],
   "source": [
    "item_df.isna().sum()"
   ]
  },
  {
   "cell_type": "markdown",
   "metadata": {},
   "source": [
    "### missing values in taxonomy kingdom"
   ]
  },
  {
   "cell_type": "code",
   "execution_count": null,
   "metadata": {},
   "outputs": [],
   "source": [
    "item_df[item_df['kingdom'].isna()]"
   ]
  },
  {
   "cell_type": "markdown",
   "metadata": {},
   "source": [
    "### inspecting missing values in dataset "
   ]
  },
  {
   "cell_type": "markdown",
   "metadata": {},
   "source": [
    "- when dropping missing value in all of the features\n",
    "  \n",
    "  this shows the number of data point to be dropped at all"
   ]
  },
  {
   "cell_type": "code",
   "execution_count": 7,
   "metadata": {},
   "outputs": [
    {
     "name": "stdout",
     "output_type": "stream",
     "text": [
      "remaining data size  184981\n",
      "remaining data  48.643879708422304\n",
      "dropped data  51.356120291577696\n"
     ]
    }
   ],
   "source": [
    "item_df_dr_0 = item_df.dropna()\n",
    "remain_dt_0 = len(item_df_dr_0) * 100 / len(item_df)\n",
    "drp_dt_0 = 100 - remain_dt_0\n",
    "print(\"remaining data size \", len(item_df_dr_0))\n",
    "print(\"remaining data \", remain_dt_0)\n",
    "print(\"dropped data \", drp_dt_0)"
   ]
  },
  {
   "cell_type": "code",
   "execution_count": 8,
   "metadata": {},
   "outputs": [
    {
     "data": {
      "text/plain": [
       "pandas.core.frame.DataFrame"
      ]
     },
     "execution_count": 8,
     "metadata": {},
     "output_type": "execute_result"
    }
   ],
   "source": [
    "type(item_df_dr_0)"
   ]
  },
  {
   "cell_type": "code",
   "execution_count": 9,
   "metadata": {},
   "outputs": [],
   "source": [
    "item_df_dr_0.to_csv(\"../herbarium-berlin-clean.csv\", sep='\\t', encoding='utf-8')"
   ]
  },
  {
   "cell_type": "markdown",
   "metadata": {},
   "source": [
    "- when dropping missing value in all of the taxonomy features\n",
    "  \n",
    "  this shows the number of data point to be dropped at all"
   ]
  },
  {
   "cell_type": "code",
   "execution_count": null,
   "metadata": {},
   "outputs": [],
   "source": [
    "item_df_dr_1 = item_df.dropna(how='all', subset=['kingdom', 'phylum', 'class', 'order', 'family', 'genus', 'species'])\n",
    "remain_dt_1 = len(item_df_dr_1) * 100 / len(item_df)\n",
    "drp_dt_1 = 100 - remain_dt_1\n",
    "print(\"remaining data size \", len(item_df_dr_1))\n",
    "print(\"remaining data \", remain_dt_1)\n",
    "print(\"dropped data \", drp_dt_1)"
   ]
  },
  {
   "cell_type": "markdown",
   "metadata": {},
   "source": [
    "- when dropping missing value in either of taxonomy features\n",
    "\n",
    "  this shows the number of data point to be imputed / set to zero / dropped at all"
   ]
  },
  {
   "cell_type": "code",
   "execution_count": null,
   "metadata": {},
   "outputs": [],
   "source": [
    "item_df_dr_2 = item_df_dr_1.dropna(subset=['kingdom', 'phylum', 'class', 'order', 'family', 'genus', 'species'])\n",
    "remain_dt_2 = len(item_df_dr_2) * 100 / len(item_df_dr_1)\n",
    "drp_dt_2 = 100 - remain_dt_2\n",
    "print(\"remaining data \", remain_dt_2, len(item_df_dr_2))\n",
    "print(\"dropped data \", drp_dt_2, len(item_df_dr_1) - len(item_df_dr_2))"
   ]
  },
  {
   "cell_type": "markdown",
   "metadata": {},
   "source": [
    "- when dropping nan in location country and the missing values in long and lat\n",
    "\n",
    "  this shows the number of data point to be imputed / set to zero / dropped at all"
   ]
  },
  {
   "cell_type": "code",
   "execution_count": null,
   "metadata": {},
   "outputs": [],
   "source": [
    "item_df_dr_3 = item_df_dr_1.dropna(how='all', subset=['countryCode', 'decimalLatitude', 'decimalLongitude'])\n",
    "remain_dt_3 = len(item_df_dr_3) * 100 / len(item_df_dr_1)\n",
    "drp_dt_3 = 100 - remain_dt_3\n",
    "print(\"remaining data \", remain_dt_3, len(item_df_dr_3))\n",
    "print(\"dropped data \", drp_dt_3, len(item_df_dr_1) - len(item_df_dr_3))"
   ]
  },
  {
   "cell_type": "markdown",
   "metadata": {},
   "source": [
    "    - checking if the number is same as dropping nan in location country or the missing values in long and lat"
   ]
  },
  {
   "cell_type": "code",
   "execution_count": null,
   "metadata": {},
   "outputs": [],
   "source": [
    "item_df_dr_3_check = item_df_dr_1.dropna(how='all', subset=['countryCode'])\n",
    "len(item_df_dr_3_check)"
   ]
  },
  {
   "cell_type": "markdown",
   "metadata": {},
   "source": [
    "    - checking row without coutry code but have long and lat values"
   ]
  },
  {
   "cell_type": "code",
   "execution_count": null,
   "metadata": {},
   "outputs": [],
   "source": [
    "item_df_dr_3[item_df_dr_3['countryCode'].isna()]"
   ]
  },
  {
   "cell_type": "markdown",
   "metadata": {},
   "source": [
    "- when dropping the missing values in long and lat \n",
    "  \n",
    "  this shows the number of data point to be completed by geocoding after the last drop operation"
   ]
  },
  {
   "cell_type": "code",
   "execution_count": null,
   "metadata": {},
   "outputs": [],
   "source": [
    "len(item_df_dr_3[item_df_dr_3['decimalLatitude'].isna() & item_df_dr_3['decimalLongitude'].isna() & item_df_dr_3['countryCode'].notna()]) * 100 / len(item_df_dr_1)"
   ]
  },
  {
   "cell_type": "code",
   "execution_count": null,
   "metadata": {},
   "outputs": [],
   "source": [
    "len(item_df_dr_3[item_df_dr_3['decimalLatitude'].isna() & item_df_dr_3['decimalLongitude'].isna() & item_df_dr_3['countryCode'].notna()])"
   ]
  },
  {
   "cell_type": "code",
   "execution_count": null,
   "metadata": {},
   "outputs": [],
   "source": [
    "len(item_df_dr_3[item_df_dr_3['decimalLatitude'].isna()])"
   ]
  },
  {
   "cell_type": "markdown",
   "metadata": {},
   "source": [
    "# Imputing missing values"
   ]
  },
  {
   "cell_type": "markdown",
   "metadata": {},
   "source": [
    "### inspecting missing values in other column to find input column for imputation"
   ]
  },
  {
   "cell_type": "code",
   "execution_count": null,
   "metadata": {},
   "outputs": [],
   "source": [
    "item_df_dr_1[item_df_dr_1['phylum'].isna()].isna().sum() * 100 / len(item_df_dr_1[item_df_dr_1['phylum'].isna()])"
   ]
  },
  {
   "cell_type": "code",
   "execution_count": null,
   "metadata": {},
   "outputs": [],
   "source": [
    "item_df_dr_1[item_df_dr_1['class'].isna()].isna().sum() * 100 / len(item_df_dr_1[item_df_dr_1['class'].isna()])"
   ]
  },
  {
   "cell_type": "code",
   "execution_count": null,
   "metadata": {},
   "outputs": [],
   "source": [
    "item_df_dr_1[item_df_dr_1['order'].isna()].isna().sum() * 100 / len(item_df_dr_1[item_df_dr_1['order'].isna()])"
   ]
  },
  {
   "cell_type": "code",
   "execution_count": null,
   "metadata": {},
   "outputs": [],
   "source": [
    "item_df_dr_1[item_df_dr_1['family'].isna()].isna().sum() * 100 / len(item_df_dr_1[item_df_dr_1['family'].isna()])"
   ]
  },
  {
   "cell_type": "code",
   "execution_count": null,
   "metadata": {},
   "outputs": [],
   "source": [
    "print(len(item_df_dr_1[item_df_dr_1['genus'].isna()]))\n",
    "item_df_dr_1[item_df_dr_1['genus'].isna()].isna().sum() * 100 / len(item_df_dr_1[item_df_dr_1['genus'].isna()])"
   ]
  },
  {
   "cell_type": "code",
   "execution_count": null,
   "metadata": {},
   "outputs": [],
   "source": [
    "print(len(item_df_dr_1[item_df_dr_1['species'].isna()]))\n",
    "item_df_dr_1[item_df_dr_1['species'].isna()].isna().sum() * 100 / len(item_df_dr_1[item_df_dr_1['species'].isna()])"
   ]
  },
  {
   "cell_type": "code",
   "execution_count": null,
   "metadata": {},
   "outputs": [],
   "source": [
    "print(len(item_df_dr_1[~item_df_dr_1.isin(item_df_dr_3).catalogNumber]))\n",
    "item_df_dr_1[~item_df_dr_1.isin(item_df_dr_3).catalogNumber].isna().sum() * 100 / len(item_df_dr_1[~item_df_dr_1.isin(item_df_dr_3).catalogNumber])"
   ]
  },
  {
   "cell_type": "markdown",
   "metadata": {},
   "source": [
    "### genus and species seem to have enough input column to suport imputation\n",
    "\n",
    "here the number of data of each column that still can be imputed"
   ]
  },
  {
   "cell_type": "markdown",
   "metadata": {},
   "source": [
    "### Genus"
   ]
  },
  {
   "cell_type": "markdown",
   "metadata": {},
   "source": [
    "test set"
   ]
  },
  {
   "cell_type": "code",
   "execution_count": null,
   "metadata": {},
   "outputs": [],
   "source": [
    "g_test = item_df_dr_1[item_df_dr_1['genus'].isna()].dropna(subset=['kingdom', 'phylum', 'class', 'order', 'family', 'countryCode'])\n",
    "len(g_test)"
   ]
  },
  {
   "cell_type": "markdown",
   "metadata": {},
   "source": [
    "training set"
   ]
  },
  {
   "cell_type": "code",
   "execution_count": null,
   "metadata": {},
   "outputs": [],
   "source": [
    "print(len(item_df_dr_1[item_df_dr_1['genus'].notna()]))\n",
    "g_train = item_df_dr_1[item_df_dr_1['genus'].notna()].dropna(subset=['kingdom', 'phylum', 'class', 'order', 'family', 'countryCode'])\n",
    "len(g_train)"
   ]
  },
  {
   "cell_type": "markdown",
   "metadata": {},
   "source": [
    "### Species"
   ]
  },
  {
   "cell_type": "markdown",
   "metadata": {},
   "source": [
    "test set"
   ]
  },
  {
   "cell_type": "code",
   "execution_count": null,
   "metadata": {},
   "outputs": [],
   "source": [
    "s_test = item_df_dr_1[item_df_dr_1['species'].isna()].dropna(subset=['kingdom', 'phylum', 'class', 'order', 'family', 'genus', 'countryCode'])\n",
    "len(s_test)"
   ]
  },
  {
   "cell_type": "markdown",
   "metadata": {},
   "source": [
    "training set"
   ]
  },
  {
   "cell_type": "code",
   "execution_count": null,
   "metadata": {},
   "outputs": [],
   "source": [
    "print(len(item_df_dr_1[item_df_dr_1['species'].notna()]))\n",
    "s_train = item_df_dr_1[item_df_dr_1['species'].notna()].dropna(subset=['kingdom', 'phylum', 'class', 'order', 'family', 'genus', 'countryCode'])\n",
    "len(s_train)"
   ]
  },
  {
   "cell_type": "markdown",
   "metadata": {},
   "source": [
    "### Location"
   ]
  },
  {
   "cell_type": "markdown",
   "metadata": {},
   "source": [
    "test set"
   ]
  },
  {
   "cell_type": "code",
   "execution_count": null,
   "metadata": {},
   "outputs": [],
   "source": [
    "l_test = item_df_dr_1[~item_df_dr_1.isin(item_df_dr_3).catalogNumber].dropna(subset=['kingdom', 'phylum', 'class', 'order', 'family', 'genus', 'species'])\n",
    "len(l_test)"
   ]
  },
  {
   "cell_type": "markdown",
   "metadata": {},
   "source": [
    "training set"
   ]
  },
  {
   "cell_type": "code",
   "execution_count": null,
   "metadata": {},
   "outputs": [],
   "source": [
    "print(len(item_df_dr_3))\n",
    "l_train = item_df_dr_3.dropna(subset=['kingdom', 'phylum', 'class', 'order', 'family', 'genus', 'species'])\n",
    "len(l_train)"
   ]
  },
  {
   "cell_type": "code",
   "execution_count": null,
   "metadata": {},
   "outputs": [],
   "source": [
    "import datawig"
   ]
  },
  {
   "cell_type": "markdown",
   "metadata": {},
   "source": [
    "# Crawling for Images Url"
   ]
  },
  {
   "cell_type": "code",
   "execution_count": null,
   "metadata": {},
   "outputs": [],
   "source": [
    "import requests\n",
    "from bs4 import BeautifulSoup\n",
    "from urllib import parse\n",
    "from urllib.parse import urlencode\n",
    "\n",
    "def image_crawler(url):\n",
    "    page = requests.get(url)\n",
    "    soup = BeautifulSoup(page.content, 'html.parser')\n",
    "    ret = \"\"\n",
    "    \n",
    "    if len(soup.find_all('img')) >= 5 :\n",
    "        imgurl = soup.find_all('img')[4]['src']\n",
    "        if \"mediastorage\" in imgurl:\n",
    "            urlcmp = parse.urlsplit(imgurl)\n",
    "            qs = parse.parse_qs(urlcmp.query)\n",
    "            qs['width'] = ['1000']\n",
    "            qsret = urlencode(qs, doseq=True)\n",
    "            ret = urlcmp.scheme + \"://\" + urlcmp.netloc + urlcmp.path + \"?\" + qsret \n",
    "            \n",
    "        \n",
    "    return ret"
   ]
  },
  {
   "cell_type": "code",
   "execution_count": null,
   "metadata": {},
   "outputs": [],
   "source": [
    "image_crawler(\"http://herbarium.bgbm.org/object/BW19937010\")"
   ]
  },
  {
   "cell_type": "code",
   "execution_count": null,
   "metadata": {},
   "outputs": [],
   "source": []
  }
 ],
 "metadata": {
  "kernelspec": {
   "display_name": "Python 3",
   "language": "python",
   "name": "python3"
  },
  "language_info": {
   "codemirror_mode": {
    "name": "ipython",
    "version": 3
   },
   "file_extension": ".py",
   "mimetype": "text/x-python",
   "name": "python",
   "nbconvert_exporter": "python",
   "pygments_lexer": "ipython3",
   "version": "3.6.6"
  }
 },
 "nbformat": 4,
 "nbformat_minor": 2
}
